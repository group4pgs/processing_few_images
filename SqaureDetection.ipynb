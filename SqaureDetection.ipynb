{
 "cells": [
  {
   "cell_type": "code",
   "execution_count": 1,
   "id": "eb14521d-ef19-403d-b43d-6ac1113d816f",
   "metadata": {},
   "outputs": [],
   "source": [
    "import numpy as np\n",
    "import cv2\n",
    "import matplotlib.pyplot as plt"
   ]
  },
  {
   "cell_type": "code",
   "execution_count": 2,
   "id": "4a42fe18-93e2-4762-a6d9-810dd228d743",
   "metadata": {},
   "outputs": [
    {
     "data": {
      "image/png": "[encoded data removed]",
      "text/plain": [
       "<Figure size 432x288 with 1 Axes>"
      ]
     },
     "metadata": {
      "needs_background": "light"
     },
     "output_type": "display_data"
    }
   ],
   "source": [
    "img = np.zeros([100,100])\n",
    "img[50:70,30:40] = np.ones([20,10])\n",
    "img[70:80,70:90] = np.ones([10,20])\n",
    "plt.imshow(img,cmap='gray')\n",
    "plt.show()"
   ]
  },
  {
   "cell_type": "code",
   "execution_count": 35,
   "id": "0080b742-bf5e-4541-a501-5744e62e68c4",
   "metadata": {},
   "outputs": [],
   "source": [
    "def masker(img,ker):\n",
    "    img_ = np.zeros(img.shape)\n",
    "    for i in range(0,img.shape[0]):\n",
    "        for j in range(0,img.shape[1]-1):\n",
    "            img_[i][j] = img[i][j-1]*ker[0] + img[i][j+1]*ker[2] + img[i][j]*ker[1]\n",
    "    return img_.astype(int)\n",
    "\n"
   ]
  },
  {
   "cell_type": "code",
   "execution_count": 56,
   "id": "411186b3-627f-48d0-8b95-bccf3a321ad5",
   "metadata": {},
   "outputs": [],
   "source": [
    "def sqaureFinder(img,j_in=0):\n",
    "    edged_img = masker(img.copy(),np.array([-1,2,1]))\n",
    "    sqs,l,w,st,flag = [{'start':0,\"length\":0,\"width\":0}],[],[],[],False\n",
    "    for i in range(edged_img.shape[0]-1):\n",
    "        for j in range(edged_img.shape[1]-1):\n",
    "            if img[i][j].any() != img[i][j+1].any():\n",
    "                w.append(j)\n",
    "            if img[i][j].any() != img[i+1][j].any():\n",
    "                l.append(i)\n",
    "            if img[i][j].any() != img[i+1][j+1].any():\n",
    "                if flag==False:\n",
    "                    st.append([i,j])\n",
    "                    flag = !flag\n",
    "                else:\n",
    "                    flag =!flag\n",
    "    #print(l,w)\n",
    "    l_,w_=[],[]\n",
    "    [l_.append(x) for x in l if x not in l_],[w_.append(x) for x in w if x not in w_]\n",
    "    print(l_)\n",
    "    st = np.array(st[0])+2\n",
    "    st[1]+j_in\n",
    "    return {'length':l_[1]-l_[0],'width':w_[1]-w_[0],'start':st}"
   ]
  },
  {
   "cell_type": "code",
   "execution_count": 57,
   "id": "340c0cb3-dcee-4920-b0f5-0bc27673669a",
   "metadata": {},
   "outputs": [
    {
     "name": "stdout",
     "output_type": "stream",
     "text": [
      "[18, 84]\n"
     ]
    },
    {
     "data": {
      "text/plain": [
       "{'length': 66, 'width': 66, 'start': array([ 20, 220])}"
      ]
     },
     "execution_count": 57,
     "metadata": {},
     "output_type": "execute_result"
    }
   ],
   "source": [
    "sqaureFinder(img.copy())"
   ]
  },
  {
   "cell_type": "code",
   "execution_count": 6,
   "id": "627131b7-d9dd-404d-a75f-0388312cef18",
   "metadata": {},
   "outputs": [],
   "source": [
    "s=[]\n",
    "def finding_nemo(img,j_in=0):\n",
    "    detect_temp,j_st=False,0\n",
    "    for i in range(img.shape[0]):\n",
    "        for j in range(img.shape[1]-1):\n",
    "            if img[i][j] != img[i][j+1] and detect_temp==False:\n",
    "                detect_temp = True\n",
    "                j_st = j\n",
    "            elif img[i][j] != img[i][j+1] and detect_temp:\n",
    "                detect_temp == False\n",
    "                plt.imshow(img[:,j_st-1:j+2],cmap='gray')\n",
    "                plt.show()\n",
    "                s.append(sqaureFinder(img[:,j_st-1:j+2].copy(),j_in))\n",
    "                s[0]['start'][1] = s[0]['start'][1]+j\n",
    "                print(s)\n",
    "                img[:,j_st:j+2] = np.zeros([img.shape[0],np.abs(j_st-j)+2])\n",
    "                return finding_nemo(img)"
   ]
  },
  {
   "cell_type": "code",
   "execution_count": 7,
   "id": "1312ef7c-c902-44a5-8325-df7029fadce9",
   "metadata": {},
   "outputs": [
    {
     "data": {
      "image/png": "[encoded data removed]",
      "text/plain": [
       "<Figure size 432x288 with 1 Axes>"
      ]
     },
     "metadata": {
      "needs_background": "light"
     },
     "output_type": "display_data"
    },
    {
     "name": "stdout",
     "output_type": "stream",
     "text": [
      "[49, 69]\n",
      "[{'length': 20, 'width': 10, 'start': array([51, 42])}]\n"
     ]
    },
    {
     "data": {
      "image/png": "[encoded data removed]",
      "text/plain": [
       "<Figure size 432x288 with 1 Axes>"
      ]
     },
     "metadata": {
      "needs_background": "light"
     },
     "output_type": "display_data"
    },
    {
     "name": "stdout",
     "output_type": "stream",
     "text": [
      "[69, 79]\n",
      "[{'length': 20, 'width': 10, 'start': array([ 51, 131])}, {'length': 10, 'width': 20, 'start': array([71,  3])}]\n"
     ]
    }
   ],
   "source": [
    "finding_nemo(img.copy())"
   ]
  },
  {
   "cell_type": "code",
   "execution_count": 54,
   "id": "e1e9cb1f-fe2b-4c26-ab27-76e3c746e858",
   "metadata": {},
   "outputs": [
    {
     "data": {
      "image/png": "[encoded data removed]",
      "text/plain": [
       "<Figure size 432x288 with 1 Axes>"
      ]
     },
     "metadata": {
      "needs_background": "light"
     },
     "output_type": "display_data"
    }
   ],
   "source": [
    "img = cv2.imread(\"2K20E22.bmp\")\n",
    "img = cv2.cvtColor(img,cv2.COLOR_BGR2RGB)\n",
    "plt.imshow(img)\n",
    "plt.show()"
   ]
  },
  {
   "cell_type": "code",
   "execution_count": 58,
   "id": "9a805143-8de3-40c7-8458-0a09b4c4f196",
   "metadata": {},
   "outputs": [
    {
     "name": "stdout",
     "output_type": "stream",
     "text": [
      "[18, 84]\n"
     ]
    },
    {
     "data": {
      "text/plain": [
       "{'length': 66, 'width': 66, 'start': array([ 20, 220])}"
      ]
     },
     "execution_count": 58,
     "metadata": {},
     "output_type": "execute_result"
    }
   ],
   "source": [
    "sqaureFinder(img)"
   ]
  },
  {
   "cell_type": "code",
   "execution_count": 36,
   "id": "524c323a-065b-4be5-908f-37fb4cb51ad8",
   "metadata": {},
   "outputs": [
    {
     "name": "stderr",
     "output_type": "stream",
     "text": [
      "Clipping input data to the valid range for imshow with RGB data ([0..1] for floats or [0..255] for integers).\n"
     ]
    },
    {
     "data": {
      "image/png": "[encoded data removed]",
      "text/plain": [
       "<Figure size 432x288 with 1 Axes>"
      ]
     },
     "metadata": {
      "needs_background": "light"
     },
     "output_type": "display_data"
    }
   ],
   "source": [
    "edged_img = masker(img.copy(),np.array([1,-2,1]))\n",
    "plt.imshow(edged_img)\n",
    "plt.show()"
   ]
  },
  {
   "cell_type": "code",
   "execution_count": 43,
   "id": "698c6db2-5313-46ee-9810-0ea38090343e",
   "metadata": {},
   "outputs": [],
   "source": [
    "sqs,l,w,st,flag = [{'start':0,\"length\":0,\"width\":0}],[],[],[],False\n",
    "for i in range(edged_img.shape[0]-1):\n",
    "    for j in range(edged_img.shape[1]-1):\n",
    "        if img[i][j].any() != img[i][j+1].any():\n",
    "            w.append(j)\n",
    "        if img[i][j].any() != img[i+1][j].any():\n",
    "            l.append(i)\n",
    "        if img[i][j].any() != img[i+1][j+1].any():\n",
    "            if flag==False:\n",
    "                st.append([i,j])\n",
    "                flag = !flag\n",
    "            else:\n",
    "                flag =!flag"
   ]
  },
  {
   "cell_type": "code",
   "execution_count": 45,
   "id": "60f437b6-c4cf-45c5-b6b3-b26e3a0eb105",
   "metadata": {},
   "outputs": [
    {
     "name": "stdout",
     "output_type": "stream",
     "text": [
      "[18, 84]\n",
      "{'length': 66, 'width': 66, 'start': 22}\n"
     ]
    }
   ],
   "source": [
    "l_,w_=[],[]\n",
    "[l_.append(x) for x in l if x not in l_],[w_.append(x) for x in w if x not in w_]\n",
    "print(l_)\n",
    "st = np.array(st[0])+2\n",
    "print({'length':l_[1]-l_[0],'width':w_[1]-w_[0],'start':st})"
   ]
  },
  {
   "cell_type": "code",
   "execution_count": null,
   "id": "2ce8915a-12e5-4cdd-9a41-41836de86265",
   "metadata": {},
   "outputs": [
    {
     "data": {
      "text/plain": [
       "[18,\n",
       " 18,\n",
       " 18,\n",
       " 18,\n",
       " 18,\n",
       " 18,\n",
       " 18,\n",
       " 18,\n",
       " 18,\n",
       " 18,\n",
       " 18,\n",
       " 18,\n",
       " 18,\n",
       " 18,\n",
       " 18,\n",
       " 18,\n",
       " 18,\n",
       " 18,\n",
       " 18,\n",
       " 18,\n",
       " 18,\n",
       " 18,\n",
       " 18,\n",
       " 18,\n",
       " 18,\n",
       " 18,\n",
       " 18,\n",
       " 18,\n",
       " 18,\n",
       " 18,\n",
       " 18,\n",
       " 18,\n",
       " 18,\n",
       " 18,\n",
       " 18,\n",
       " 18,\n",
       " 18,\n",
       " 18,\n",
       " 18,\n",
       " 18,\n",
       " 18,\n",
       " 18,\n",
       " 18,\n",
       " 18,\n",
       " 18,\n",
       " 18,\n",
       " 18,\n",
       " 18,\n",
       " 18,\n",
       " 18,\n",
       " 18,\n",
       " 18,\n",
       " 18,\n",
       " 18,\n",
       " 18,\n",
       " 18,\n",
       " 18,\n",
       " 18,\n",
       " 18,\n",
       " 18,\n",
       " 18,\n",
       " 18,\n",
       " 18,\n",
       " 18,\n",
       " 18,\n",
       " 18,\n",
       " 84,\n",
       " 84,\n",
       " 84,\n",
       " 84,\n",
       " 84,\n",
       " 84,\n",
       " 84,\n",
       " 84,\n",
       " 84,\n",
       " 84,\n",
       " 84,\n",
       " 84,\n",
       " 84,\n",
       " 84,\n",
       " 84,\n",
       " 84,\n",
       " 84,\n",
       " 84,\n",
       " 84,\n",
       " 84,\n",
       " 84,\n",
       " 84,\n",
       " 84,\n",
       " 84,\n",
       " 84,\n",
       " 84,\n",
       " 84,\n",
       " 84,\n",
       " 84,\n",
       " 84,\n",
       " 84,\n",
       " 84,\n",
       " 84,\n",
       " 84,\n",
       " 84,\n",
       " 84,\n",
       " 84,\n",
       " 84,\n",
       " 84,\n",
       " 84,\n",
       " 84,\n",
       " 84,\n",
       " 84,\n",
       " 84,\n",
       " 84,\n",
       " 84,\n",
       " 84,\n",
       " 84,\n",
       " 84,\n",
       " 84,\n",
       " 84,\n",
       " 84,\n",
       " 84,\n",
       " 84,\n",
       " 84,\n",
       " 84,\n",
       " 84,\n",
       " 84,\n",
       " 84,\n",
       " 84,\n",
       " 84,\n",
       " 84,\n",
       " 84,\n",
       " 84,\n",
       " 84,\n",
       " 84]"
      ]
     },
     "execution_count": 52,
     "metadata": {},
     "output_type": "execute_result"
    }
   ],
   "source": []
  }
 ],
 "metadata": {
  "kernelspec": {
   "display_name": "Python 3 (ipykernel)",
   "language": "python",
   "name": "python3"
  },
  "language_info": {
   "codemirror_mode": {
    "name": "ipython",
    "version": 3
   },
   "file_extension": ".py",
   "mimetype": "text/x-python",
   "name": "python",
   "nbconvert_exporter": "python",
   "pygments_lexer": "ipython3",
   "version": "3.9.7"
  }
 },
 "nbformat": 4,
 "nbformat_minor": 5
}
