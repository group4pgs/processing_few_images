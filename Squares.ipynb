{
 "cells": [
  {
   "cell_type": "markdown",
   "id": "f2e6cced-d845-4647-b2fe-eefad58c0d59",
   "metadata": {},
   "source": [
    "## Finding the Sqaure"
   ]
  },
  {
   "cell_type": "code",
   "execution_count": 1,
   "id": "fa48f252-92d3-4cb4-82d1-5336590c94c1",
   "metadata": {},
   "outputs": [],
   "source": [
    "import numpy as np\n",
    "import cv2\n",
    "import matplotlib.pyplot as plt"
   ]
  },
  {
   "cell_type": "markdown",
   "id": "0fce009b-4670-4825-8faa-a9ada8799958",
   "metadata": {},
   "source": [
    "Detecting the Vertical edges"
   ]
  },
  {
   "cell_type": "code",
   "execution_count": 2,
   "id": "45ef6996-d5fc-4720-a124-07efeda886fe",
   "metadata": {},
   "outputs": [],
   "source": [
    "def masker(img,ker):\n",
    "    img_ = np.zeros(img.shape)\n",
    "    for i in range(0,img.shape[0]):\n",
    "        for j in range(0,img.shape[1]-1):\n",
    "            img_[i][j] = img[i][j-1]*ker[0] + img[i][j+1]*ker[2] + img[i][j]*ker[1]\n",
    "    return img_.astype(int)\n",
    "\n"
   ]
  },
  {
   "cell_type": "markdown",
   "id": "fbcd9715-ab5b-432e-bccc-191fd2e092e9",
   "metadata": {},
   "source": [
    "Finding the sqaures"
   ]
  },
  {
   "cell_type": "code",
   "execution_count": 5,
   "id": "e2fabeef-d66d-4194-89a4-d85e001c6723",
   "metadata": {},
   "outputs": [],
   "source": [
    "def sqaureFinder(img):\n",
    "    edged_img = masker(img.copy(),np.array([-1,2,1]))\n",
    "    sqs,l,w,st,flag = [{'start':0,\"length\":0,\"width\":0}],[],[],[],False\n",
    "    for i in range(edged_img.shape[0]-1):\n",
    "        for j in range(edged_img.shape[1]-1):\n",
    "            if img[i][j].any() != img[i][j+1].any():\n",
    "                w.append(j)\n",
    "            if img[i][j].any() != img[i+1][j].any():\n",
    "                l.append(i)\n",
    "            if img[i][j].any() != img[i+1][j+1].any():\n",
    "                if flag==False:\n",
    "                    st.append([i,j])\n",
    "                    flag = !flag\n",
    "                else:\n",
    "                    flag =!flag\n",
    "    l_,w_=[],[]\n",
    "    [l_.append(x) for x in l if x not in l_],[w_.append(x) for x in w if x not in w_]\n",
    "    st = np.array(st[0])+2\n",
    "    return {'length':l_[1]-l_[0],'width':w_[1]-w_[0],'start':st}"
   ]
  },
  {
   "cell_type": "markdown",
   "id": "14c07dcf-cb0b-431d-a74f-8418fc0fea72",
   "metadata": {},
   "source": [
    "Getting the file"
   ]
  },
  {
   "cell_type": "code",
   "execution_count": 4,
   "id": "b7372efd-00b4-4574-b218-fda3d7506090",
   "metadata": {},
   "outputs": [
    {
     "data": {
      "image/png": "[encoded data removed]",
      "text/plain": [
       "<Figure size 432x288 with 1 Axes>"
      ]
     },
     "metadata": {
      "needs_background": "light"
     },
     "output_type": "display_data"
    }
   ],
   "source": [
    "img = cv2.imread(\"2K20E22.bmp\")\n",
    "img = cv2.cvtColor(img,cv2.COLOR_BGR2RGB)\n",
    "plt.imshow(img)\n",
    "plt.title(\"Image provided\")\n",
    "plt.show()"
   ]
  },
  {
   "cell_type": "code",
   "execution_count": 9,
   "id": "c2331179-cf33-456b-a33b-cbbb1641cbdb",
   "metadata": {},
   "outputs": [
    {
     "name": "stdout",
     "output_type": "stream",
     "text": [
      "Side =  66 \n",
      "Area =  4356\n",
      "Start position =  [ 20 220]\n"
     ]
    }
   ],
   "source": [
    "square = sqaureFinder(img)\n",
    "print(\"Side = \",square['length'],'\\nArea = ',square['length']*square['width'])\n",
    "print('Start position = ',square['start'])"
   ]
  },
  {
   "cell_type": "code",
   "execution_count": null,
   "id": "f7f9568a-e7c5-4c9a-9230-944e280776de",
   "metadata": {},
   "outputs": [],
   "source": []
  }
 ],
 "metadata": {
  "kernelspec": {
   "display_name": "Python 3 (ipykernel)",
   "language": "python",
   "name": "python3"
  },
  "language_info": {
   "codemirror_mode": {
    "name": "ipython",
    "version": 3
   },
   "file_extension": ".py",
   "mimetype": "text/x-python",
   "name": "python",
   "nbconvert_exporter": "python",
   "pygments_lexer": "ipython3",
   "version": "3.9.7"
  }
 },
 "nbformat": 4,
 "nbformat_minor": 5
}
